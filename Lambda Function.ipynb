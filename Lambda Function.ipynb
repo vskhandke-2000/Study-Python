{
 "cells": [
  {
   "cell_type": "markdown",
   "id": "08b49ec4",
   "metadata": {},
   "source": [
    "# Lambda Function\n",
    "Python Lambda Functions are anonymous function means that the function is without a name. As we already know that the def keyword is used to define a normal function in Python. Similarly, the lambda keyword is used to define an anonymous function in Python.\n",
    "### Syntax:\n",
    "lambda arguments: expression"
   ]
  },
  {
   "cell_type": "markdown",
   "id": "9f242035",
   "metadata": {},
   "source": [
    "1. This function can have any number of arguments but only one expression, which is evaluated and returned.\n",
    "2. One is free to use lambda functions wherever function objects are required.\n",
    "3. You need to keep in your knowledge that lambda functions are syntactically restricted to a single expression.\n",
    "4. It has various uses in particular fields of programming besides other types of expressions in functions."
   ]
  },
  {
   "cell_type": "code",
   "execution_count": 1,
   "id": "3352b54c",
   "metadata": {},
   "outputs": [
    {
     "name": "stdout",
     "output_type": "stream",
     "text": [
      "<function <lambda> at 0x000001B148E1DCA0>\n"
     ]
    }
   ],
   "source": [
    "# Basic Python program to demonstrate lambda functions\n",
    "string ='LambdaFunction'\n",
    "\n",
    "# lambda returns a function object\n",
    "print(lambda string : string)"
   ]
  },
  {
   "cell_type": "code",
   "execution_count": 2,
   "id": "b87897db",
   "metadata": {},
   "outputs": [
    {
     "name": "stdout",
     "output_type": "stream",
     "text": [
      "LambdaFunction\n"
     ]
    }
   ],
   "source": [
    "# Python program to demonstrate\n",
    "# lambda functions\n",
    "\n",
    "\n",
    "x =\"LambdaFunction\"\n",
    "\n",
    "# lambda gets pass to print\n",
    "(lambda x : print(x))(x)\n"
   ]
  },
  {
   "cell_type": "code",
   "execution_count": 4,
   "id": "d4b36b46",
   "metadata": {},
   "outputs": [
    {
     "name": "stdout",
     "output_type": "stream",
     "text": [
      "Using def() :  125\n",
      "\n",
      "Using lambda : 125\n"
     ]
    }
   ],
   "source": [
    "# Difference Between Lambda functions and def defined function\n",
    "# Python code to illustrate cube of a number\n",
    "# showing difference between def() and lambda().\n",
    "def cube(y):\n",
    "    return y*y*y\n",
    "\n",
    "\n",
    "lambda_cube = lambda y: y*y*y\n",
    "\n",
    "# using the normally\n",
    "# defined function\n",
    "print(\"Using def() : \", cube(5))\n",
    "\n",
    "# using the lambda function\n",
    "print(\"\\nUsing lambda :\", lambda_cube(5))"
   ]
  },
  {
   "cell_type": "markdown",
   "id": "20eb1a85",
   "metadata": {},
   "source": [
    "1. Without using Lambda: \n",
    "Here, both of them return the cube of a given number. But, while using def, we needed to define a function with a name cube and needed to pass a value to it. After execution, we also needed to return the result from where the function was called using the return keyword.\n",
    "2. Using Lambda: \n",
    "Lambda definition does not include a “return” statement, it always contains an expression that is returned. We can also put a lambda definition anywhere a function is expected, and we don’t have to assign it to a variable at all. This is the simplicity of lambda functions."
   ]
  },
  {
   "cell_type": "code",
   "execution_count": 5,
   "id": "36260ce6",
   "metadata": {},
   "outputs": [
    {
     "name": "stdout",
     "output_type": "stream",
     "text": [
      "10\n",
      "20\n",
      "30\n",
      "40\n",
      "50\n",
      "60\n",
      "70\n",
      "80\n",
      "90\n",
      "100\n"
     ]
    }
   ],
   "source": [
    "# Table of 10 using Lambda\n",
    "tables = [lambda x=x: x*10 for x in range(1, 11)]\n",
    " \n",
    "for table in tables:\n",
    "    print(table())"
   ]
  },
  {
   "cell_type": "code",
   "execution_count": 6,
   "id": "e3ba3c29",
   "metadata": {},
   "outputs": [
    {
     "name": "stdout",
     "output_type": "stream",
     "text": [
      "2\n"
     ]
    }
   ],
   "source": [
    "# Example of lambda function using if-else\n",
    "Max = lambda a, b : a if(a > b) else b\n",
    "print(Max(1, 2))"
   ]
  },
  {
   "cell_type": "code",
   "execution_count": 7,
   "id": "d29f5866",
   "metadata": {},
   "outputs": [
    {
     "name": "stdout",
     "output_type": "stream",
     "text": [
      "[3, 16, 9]\n"
     ]
    }
   ],
   "source": [
    "List = [[2,3,4],[1, 4, 16, 64],[3, 6, 9, 12]]\n",
    "\n",
    "# Sort each sublist\n",
    "sortList = lambda x: (sorted(i) for i in x)\n",
    "\n",
    "# Get the second largest element\n",
    "secondLargest = lambda x, f : [y[len(y)-2] for y in f(x)]\n",
    "res = secondLargest(List, sortList)\n",
    "\n",
    "print(res)"
   ]
  },
  {
   "cell_type": "markdown",
   "id": "0813588d",
   "metadata": {},
   "source": [
    "Lambda functions can be used along with built-in functions like filter(), map() and reduce()."
   ]
  },
  {
   "cell_type": "markdown",
   "id": "4efba8c8",
   "metadata": {},
   "source": [
    "# filter(): "
   ]
  },
  {
   "cell_type": "markdown",
   "id": "ff207405",
   "metadata": {},
   "source": [
    "###### The filter() method filters the given sequence with the help of a function that tests each element in the sequence to be true or not.\n",
    "\n",
    "###### syntax:\n",
    "###### filter(function, sequence)\n",
    "\n",
    "###### Parameters:\n",
    "###### function: function that tests if each element of a  sequence true or not.\n",
    "###### sequence: sequence which needs to be filtered, it can  be sets, lists, tuples, or containers of any iterators.\n",
    "###### Returns: returns an iterator that is already filtered."
   ]
  },
  {
   "cell_type": "code",
   "execution_count": 10,
   "id": "21bda5ee",
   "metadata": {},
   "outputs": [
    {
     "name": "stdout",
     "output_type": "stream",
     "text": [
      "[1, 3, 5, 13]\n",
      "[0, 2, 8]\n"
     ]
    }
   ],
   "source": [
    "# a list contains both even and odd numbers.\n",
    "seq = [0, 1, 2, 3, 5, 8, 13]\n",
    "\n",
    "# result contains odd numbers of the list\n",
    "result = filter(lambda x: x % 2 != 0, seq)\n",
    "print(list(result))\n",
    "\n",
    "# result contains even numbers of the list\n",
    "result = filter(lambda x: x % 2 == 0, seq)\n",
    "print(list(result))"
   ]
  },
  {
   "cell_type": "markdown",
   "id": "2b704abb",
   "metadata": {},
   "source": [
    "# map():"
   ]
  },
  {
   "cell_type": "markdown",
   "id": "2af32533",
   "metadata": {},
   "source": [
    "###### map() function returns a map object(which is an iterator) of the results after applying the given function to each item of a given iterable (list, tuple etc.)\n",
    "\n",
    "###### Syntax :\n",
    "###### map(fun, iter)\n",
    "\n",
    "###### Parameters :\n",
    "\n",
    "###### fun : It is a function to which map passes each element of given iterable.\n",
    "###### iter : It is a iterable which is to be mapped.\n",
    "\n",
    "NOTE : You can pass one or more iterable to the map() function.\n",
    "\n",
    "###### Returns : Returns a list of the results after applying the given function to each item of a given iterable (list, tuple etc.) \n",
    " \n",
    "NOTE : The returned value from map() (map object) then can be passed to functions like list() (to create a list), set() (to create a set) ."
   ]
  },
  {
   "cell_type": "code",
   "execution_count": 9,
   "id": "eed19b60",
   "metadata": {},
   "outputs": [
    {
     "name": "stdout",
     "output_type": "stream",
     "text": [
      "[2, 4, 6, 8]\n"
     ]
    }
   ],
   "source": [
    "# Double all numbers using map and lambda\n",
    "\n",
    "numbers = (1, 2, 3, 4)\n",
    "result = map(lambda x: x + x, numbers)\n",
    "print(list(result))"
   ]
  },
  {
   "cell_type": "markdown",
   "id": "ee120677",
   "metadata": {},
   "source": [
    "# reduce():"
   ]
  },
  {
   "cell_type": "markdown",
   "id": "af77071b",
   "metadata": {},
   "source": [
    "###### The reduce(fun,seq) function is used to apply a particular function passed in its argument to all of the list elements mentioned in the sequence passed along.This function is defined in “functools” module.\n",
    "\n",
    "###### Working :  \n",
    "\n",
    "1. At first step, first two elements of sequence are picked and the result is obtained.\n",
    "2. Next step is to apply the same function to the previously attained result and the number just succeeding the second element and the result is again stored.\n",
    "3. This process continues till no more elements are left in the container.\n",
    "4. The final returned result is returned and printed on console."
   ]
  },
  {
   "cell_type": "code",
   "execution_count": 8,
   "id": "66c4caf9",
   "metadata": {},
   "outputs": [
    {
     "name": "stdout",
     "output_type": "stream",
     "text": [
      "The sum of the list elements is : 17\n",
      "The maximum element of the list is : 6\n"
     ]
    }
   ],
   "source": [
    "# python code to demonstrate working of reduce()\n",
    "\n",
    "# importing functools for reduce()\n",
    "import functools\n",
    "\n",
    "# initializing list\n",
    "lis = [1, 3, 5, 6, 2, ]\n",
    "\n",
    "# using reduce to compute sum of list\n",
    "print(\"The sum of the list elements is : \", end=\"\")\n",
    "print(functools.reduce(lambda a, b: a+b, lis))\n",
    "\n",
    "# using reduce to compute maximum element from list\n",
    "print(\"The maximum element of the list is : \", end=\"\")\n",
    "print(functools.reduce(lambda a, b: a if a > b else b, lis))"
   ]
  },
  {
   "cell_type": "code",
   "execution_count": 11,
   "id": "f8e333ef",
   "metadata": {},
   "outputs": [
    {
     "name": "stdout",
     "output_type": "stream",
     "text": [
      "1st Example:\n",
      "[5, 7, 97, 77, 23, 73, 61]\n",
      "\n",
      "2nd Example:\n",
      "[90, 59, 21, 60]\n"
     ]
    }
   ],
   "source": [
    "# Python code to illustrate\n",
    "# filter() with lambda()\n",
    "print(\"1st Example:\")\n",
    "li = [5, 7, 22, 97, 54, 62, 77, 23, 73, 61]\n",
    "\n",
    "final_list = list(filter(lambda x: (x%2 != 0) , li))\n",
    "print(final_list)\n",
    "\n",
    "\n",
    "# 2nd example\n",
    "print(\"\\n2nd Example:\")\n",
    "# Python 3 code to people above 18 yrs\n",
    "ages = [13, 90, 17, 59, 21, 60, 5]\n",
    "\n",
    "adults = list(filter(lambda age: age>18, ages))\n",
    "\n",
    "print(adults)\n",
    "\n"
   ]
  },
  {
   "cell_type": "code",
   "execution_count": 12,
   "id": "d25ac3f6",
   "metadata": {},
   "outputs": [
    {
     "name": "stdout",
     "output_type": "stream",
     "text": [
      "1st Example:\n",
      "[10, 14, 44, 194, 108, 124, 154, 46, 146, 122]\n",
      "\n",
      "2nd Example\n",
      "['DOG', 'CAT', 'PARROT', 'RABBIT']\n"
     ]
    }
   ],
   "source": [
    "# Python code to illustrate\n",
    "# map() with lambda()\n",
    "# to get double of a list.\n",
    "print(\"1st Example:\")\n",
    "li = [5, 7, 22, 97, 54, 62, 77, 23, 73, 61]\n",
    "\n",
    "final_list = list(map(lambda x: x*2, li))\n",
    "print(final_list)\n",
    "\n",
    "# 2nd Example\n",
    "print(\"\\n2nd Example\")\n",
    "# Python program to demonstrate\n",
    "# use of lambda() function\n",
    "# with map() function\n",
    "animals = ['dog', 'cat', 'parrot', 'rabbit']\n",
    "\n",
    "# here we intend to change all animal names\n",
    "# to upper case and return the same\n",
    "uppered_animals = list(map(lambda animal: str.upper(animal), animals))\n",
    "\n",
    "print(uppered_animals)"
   ]
  },
  {
   "cell_type": "code",
   "execution_count": 13,
   "id": "8d846fae",
   "metadata": {},
   "outputs": [
    {
     "name": "stdout",
     "output_type": "stream",
     "text": [
      "1st Example:\n",
      "193\n",
      "\n",
      "2nd Example:\n",
      "The maximum element of the list is : 6\n"
     ]
    }
   ],
   "source": [
    "# Python code to illustrate\n",
    "# reduce() with lambda()\n",
    "# to get sum of a list\n",
    "\n",
    "print(\"1st Example:\")\n",
    "from functools import reduce\n",
    "li = [5, 8, 10, 20, 50, 100]\n",
    "sum = reduce((lambda x, y: x + y), li)\n",
    "print (sum)\n",
    "\n",
    "# 2nd Example\n",
    "print(\"\\n2nd Example:\")\n",
    "# python code to demonstrate working of reduce()\n",
    "# with a lambda function\n",
    "\n",
    "# importing functools for reduce()\n",
    "import functools\n",
    "\n",
    "# initializing list\n",
    "lis = [ 1 , 3, 5, 6, 2, ]\n",
    "\n",
    "# using reduce to compute maximum element from list\n",
    "print (\"The maximum element of the list is : \",end=\"\")\n",
    "print (functools.reduce(lambda a,b : a if a > b else b,lis))"
   ]
  },
  {
   "cell_type": "code",
   "execution_count": 14,
   "id": "6b3aea4e",
   "metadata": {},
   "outputs": [],
   "source": [
    "# Last Example:\n",
    "double = lambda x: x * 2\n",
    "\n",
    "# is same as\n",
    "\n",
    "def double(x):\n",
    "   return x * 2"
   ]
  },
  {
   "cell_type": "markdown",
   "id": "2d2093c6",
   "metadata": {},
   "source": [
    "In the above program, lambda x: x * 2 is the lambda function. Here x is the argument and x * 2 is the expression that gets evaluated and returned. This function has no name. It returns a function object which is assigned to the identifier double. "
   ]
  },
  {
   "cell_type": "code",
   "execution_count": null,
   "id": "25dd2a07",
   "metadata": {},
   "outputs": [],
   "source": []
  }
 ],
 "metadata": {
  "kernelspec": {
   "display_name": "Python 3",
   "language": "python",
   "name": "python3"
  },
  "language_info": {
   "codemirror_mode": {
    "name": "ipython",
    "version": 3
   },
   "file_extension": ".py",
   "mimetype": "text/x-python",
   "name": "python",
   "nbconvert_exporter": "python",
   "pygments_lexer": "ipython3",
   "version": "3.8.10"
  }
 },
 "nbformat": 4,
 "nbformat_minor": 5
}
