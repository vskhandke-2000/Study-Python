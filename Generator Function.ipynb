{
 "cells": [
  {
   "cell_type": "markdown",
   "id": "8d4a6b15",
   "metadata": {},
   "source": [
    "# Generator Function\n",
    "Generator-Function : A generator-function is defined like a normal function, but whenever it needs to generate a value, it does so with the yield keyword rather than return. If the body of a def contains yield, the function automatically becomes a generator function."
   ]
  },
  {
   "cell_type": "code",
   "execution_count": 1,
   "id": "d1b4f6d3",
   "metadata": {},
   "outputs": [
    {
     "name": "stdout",
     "output_type": "stream",
     "text": [
      "1\n",
      "2\n",
      "3\n"
     ]
    }
   ],
   "source": [
    "# A basic Generator Function Code\n",
    "# A generator function that yields 1 for first time, 2 second time and 3 third time\n",
    "def simpleGeneratorFun():\n",
    "    yield 1\n",
    "    yield 2\n",
    "    yield 3\n",
    "\n",
    "# Driver code to check above generator function\n",
    "for value in simpleGeneratorFun():\n",
    "    print(value)"
   ]
  },
  {
   "cell_type": "markdown",
   "id": "dcc3a536",
   "metadata": {},
   "source": [
    "## When to use yield instead of return in Python?\n",
    "The yield statement suspends function’s execution and sends a value back to the caller, but retains enough state to enable function to resume where it is left off. When resumed, the function continues execution immediately after the last yield run. This allows its code to produce a series of values over time, rather than computing them at once and sending them back like a list."
   ]
  },
  {
   "cell_type": "markdown",
   "id": "97abb902",
   "metadata": {},
   "source": [
    "###### If a function contains at least one yield statement (it may contain other yield or return statements), it becomes a generator function. Both yield and return will return some value from a function.\n",
    "###### The difference is that while a return statement terminates a function entirely, yield statement pauses the function saving all its states and later continues from there on successive calls."
   ]
  },
  {
   "cell_type": "code",
   "execution_count": 3,
   "id": "441f00e0",
   "metadata": {},
   "outputs": [
    {
     "name": "stdout",
     "output_type": "stream",
     "text": [
      "1\n",
      "4\n",
      "9\n",
      "16\n",
      "25\n",
      "36\n",
      "49\n",
      "64\n",
      "81\n",
      "100\n",
      "121\n"
     ]
    }
   ],
   "source": [
    "# A Python program to generate squares from 1\n",
    "# to 100 using yield and therefore generator\n",
    "\n",
    "# An infinite generator function that prints\n",
    "# next square number. It starts with 1\n",
    "def nextSquare():\n",
    "    i = 1\n",
    "\n",
    "    # An Infinite loop to generate squares\n",
    "    while True:\n",
    "        yield i*i\n",
    "        i += 1 # Next execution resumes from this point\n",
    "\n",
    "# Driver code to test above generator\n",
    "# function\n",
    "for num in nextSquare():\n",
    "    if num > 100:\n",
    "        print(num)\n",
    "        break\n",
    "    print(num)"
   ]
  },
  {
   "cell_type": "code",
   "execution_count": 15,
   "id": "69ebac9a",
   "metadata": {},
   "outputs": [
    {
     "name": "stdout",
     "output_type": "stream",
     "text": [
      "n\n",
      "o\n",
      "h\n",
      "t\n",
      "y\n",
      "P\n"
     ]
    }
   ],
   "source": [
    "# Example of a generator that reverses a string\n",
    "def rev_str(my_str):\n",
    "    length = len(my_str)\n",
    "    for i in range(length - 1, -1, -1):\n",
    "        yield my_str[i]\n",
    "\n",
    "\n",
    "# For loop to reverse the string\n",
    "for char in rev_str(\"Python\"):\n",
    "    print(char)\n",
    "\n",
    "# Note: This generator function not only works with strings, \n",
    "# but also with other kinds of iterables like list, tuple, etc."
   ]
  },
  {
   "cell_type": "markdown",
   "id": "047cb972",
   "metadata": {},
   "source": [
    "## Iterators in Python\n",
    "Iterator in python is an object that is used to iterate over iterable objects like lists, tuples, dicts, and sets. The iterator object is initialized using the iter() method. It uses the next() method for iteration."
   ]
  },
  {
   "cell_type": "markdown",
   "id": "466dff65",
   "metadata": {},
   "source": [
    "1. _ _iter(iterable)_ _ method that is called for the initialization of an iterator. This returns an iterator object\n",
    "2. next (_ _next_ _ in Python 3) The next method returns the next value for the iterable. When we use a for loop to traverse any iterable object, internally it uses the iter() method to get an iterator object which further uses next() method to iterate over. This method raises a StopIteration to signal the end of the iteration."
   ]
  },
  {
   "cell_type": "code",
   "execution_count": 13,
   "id": "d7f73826",
   "metadata": {},
   "outputs": [
    {
     "name": "stdout",
     "output_type": "stream",
     "text": [
      "P\n",
      "y\n",
      "t\n",
      "h\n",
      "o\n",
      "n\n"
     ]
    }
   ],
   "source": [
    "iterable_value = 'Python'\n",
    "iterable_obj = iter(iterable_value)\n",
    "\n",
    "while True:\n",
    "    try:\n",
    "        # Iterate \n",
    "        item = next(iterable_obj)\n",
    "        print(item)\n",
    "        \n",
    "    except StopIteration:\n",
    "        # exception will happen when iteration will over\n",
    "        break"
   ]
  },
  {
   "cell_type": "markdown",
   "id": "c8e07605",
   "metadata": {},
   "source": [
    "Generator-Object: \n",
    "Generator functions return a generator object. Generator objects are used either by calling the next method on the generator object or using the generator object in a “for in” loop (as shown in the above program)."
   ]
  },
  {
   "cell_type": "code",
   "execution_count": 10,
   "id": "ff863089",
   "metadata": {},
   "outputs": [
    {
     "name": "stdout",
     "output_type": "stream",
     "text": [
      "1\n",
      "2\n",
      "3\n"
     ]
    }
   ],
   "source": [
    "# A Python program to demonstrate use of generator object with next()\n",
    "\n",
    "# A generator function\n",
    "def simpleGeneratorFun():\n",
    "    yield 1\n",
    "    yield 2\n",
    "    yield 3\n",
    "\n",
    "x = simpleGeneratorFun() # x is generator object\n",
    "\n",
    "# Iterating over the generator object using __next__\n",
    "print(x.__next__())\n",
    "print(x.__next__())\n",
    "print(x.__next__())\n"
   ]
  },
  {
   "cell_type": "code",
   "execution_count": 11,
   "id": "38f20ea2",
   "metadata": {},
   "outputs": [
    {
     "name": "stdout",
     "output_type": "stream",
     "text": [
      "0\n",
      "1\n",
      "1\n",
      "2\n",
      "3\n",
      "\n",
      "Using for in loop\n",
      "0\n",
      "1\n",
      "1\n",
      "2\n",
      "3\n"
     ]
    }
   ],
   "source": [
    "# A simple generator for Fibonacci Numbers\n",
    "def fib(limit):\n",
    "    # Initialize first two Fibonacci Numbers\n",
    "    a, b = 0, 1\n",
    "    # One by one yield next Fibonacci Number\n",
    "    while a < limit:\n",
    "        yield a\n",
    "        a, b = b, a + b\n",
    "\n",
    "        \n",
    "# Create a generator object\n",
    "x = fib(5)\n",
    "# Iterating over the generator object using next\n",
    "print(x.__next__())\n",
    "print(x.__next__())\n",
    "print(x.__next__())\n",
    "print(x.__next__())\n",
    "print(x.__next__())\n",
    "\n",
    "# Iterating over the generator object using for in loop.\n",
    "print(\"\\nUsing for in loop\")\n",
    "for i in fib(5):\n",
    "    print(i)"
   ]
  },
  {
   "cell_type": "markdown",
   "id": "bceb17e1",
   "metadata": {},
   "source": [
    "## _ _next_ _() Function\n",
    "Docstring:\n",
    "print(value, ..., sep=' ', end='\\n', file=sys.stdout, flush=False)\n",
    "\n",
    "Prints the values to a stream, or to sys.stdout by default.\n",
    "Optional keyword arguments:\n",
    "##### file:  a file-like object (stream); defaults to the current sys.stdout.\n",
    "##### sep:   string inserted between values, default a space.\n",
    "##### end:   string appended after the last value, default a newline.\n",
    "##### flush: whether to forcibly flush the stream."
   ]
  },
  {
   "cell_type": "markdown",
   "id": "59d26a0d",
   "metadata": {},
   "source": [
    "## _ _iter_ _() Function\n",
    "##### Docstring:\n",
    "##### iter(iterable) -> iterator\n",
    "##### iter(callable, sentinel) -> iterator\n",
    "\n",
    "##### Get an iterator from an object.  In the first form, the argument must supply its own iterator, or be a sequence.\n",
    "#####  In the second form, the callable is called until it returns the sentinel.\n",
    "##### Type:      builtin_function_or_method"
   ]
  },
  {
   "cell_type": "code",
   "execution_count": null,
   "id": "dad0c462",
   "metadata": {},
   "outputs": [],
   "source": []
  }
 ],
 "metadata": {
  "kernelspec": {
   "display_name": "Python 3",
   "language": "python",
   "name": "python3"
  },
  "language_info": {
   "codemirror_mode": {
    "name": "ipython",
    "version": 3
   },
   "file_extension": ".py",
   "mimetype": "text/x-python",
   "name": "python",
   "nbconvert_exporter": "python",
   "pygments_lexer": "ipython3",
   "version": "3.8.10"
  }
 },
 "nbformat": 4,
 "nbformat_minor": 5
}
