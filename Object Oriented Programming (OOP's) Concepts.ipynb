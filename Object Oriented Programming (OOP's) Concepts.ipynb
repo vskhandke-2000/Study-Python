{
 "cells": [
  {
   "cell_type": "markdown",
   "id": "848fd390",
   "metadata": {},
   "source": [
    "# OOP's Concepts:\n",
    "1. Class\n",
    "2. Object\n",
    "3. Polymorphism\n",
    "4. Encapsulation\n",
    "5. Inheritance"
   ]
  },
  {
   "cell_type": "markdown",
   "id": "620ff705",
   "metadata": {},
   "source": [
    "## Class:\n",
    "\n",
    "##### Some points on Python class:  \n",
    "1. Classes are created by keyword class.\n",
    "2. Attributes are the variables that belong to a class.\n",
    "3. Attributes are always public and can be accessed using the dot (.) operator. Eg.: Myclass.Myattribute"
   ]
  },
  {
   "cell_type": "code",
   "execution_count": 1,
   "id": "0b8bcae4",
   "metadata": {},
   "outputs": [],
   "source": [
    "# Python3 program to demonstrate defining a class\n",
    "class Dog:\n",
    "    pass\n"
   ]
  },
  {
   "cell_type": "markdown",
   "id": "e247afea",
   "metadata": {},
   "source": [
    "## Object:\n",
    "\n",
    "##### An object consists of :\n",
    "1. State: It is represented by the attributes of an object. It also reflects the properties of an object.\n",
    "2. Behavior: It is represented by the methods of an object. It also reflects the response of an object to other objects.\n",
    "3. Identity: It gives a unique name to an object and enables one object to interact with other objects."
   ]
  },
  {
   "cell_type": "code",
   "execution_count": 2,
   "id": "0f9f73db",
   "metadata": {},
   "outputs": [],
   "source": [
    "obj = Dog()"
   ]
  },
  {
   "cell_type": "code",
   "execution_count": 4,
   "id": "d5243d97",
   "metadata": {},
   "outputs": [
    {
     "name": "stdout",
     "output_type": "stream",
     "text": [
      "Address of self =  2186381744688\n",
      "Address of class object =  2186381744688\n"
     ]
    }
   ],
   "source": [
    "# Self in Class\n",
    "#it is clearly seen that self and obj is referring to the same object\n",
    "\n",
    "class check:\n",
    "    def __init__(self):\n",
    "        print(\"Address of self = \",id(self))\n",
    "\n",
    "obj = check()\n",
    "print(\"Address of class object = \",id(obj))"
   ]
  },
  {
   "cell_type": "code",
   "execution_count": 5,
   "id": "f5fd2057",
   "metadata": {},
   "outputs": [
    {
     "name": "stdout",
     "output_type": "stream",
     "text": [
      "Model is audi a4\n",
      "color is blue\n",
      "Model is ferrari 488\n",
      "color is green\n"
     ]
    }
   ],
   "source": [
    "class car():\n",
    "\n",
    "    # init method or constructor\n",
    "    def __init__(self, model, color):\n",
    "        self.model = model\n",
    "        self.color = color\n",
    "        \n",
    "    def show(self):\n",
    "        print(\"Model is\", self.model )\n",
    "        print(\"color is\", self.color )\n",
    "        \n",
    "        \n",
    "# both objects have different self which\n",
    "# contain their attributes\n",
    "audi = car(\"audi a4\", \"blue\")\n",
    "ferrari = car(\"ferrari 488\", \"green\")\n",
    "\n",
    "audi.show()# same output as car.show(audi)\n",
    "ferrari.show() # same output as car.show(ferrari)\n"
   ]
  },
  {
   "cell_type": "code",
   "execution_count": 6,
   "id": "87476531",
   "metadata": {},
   "outputs": [
    {
     "name": "stdout",
     "output_type": "stream",
     "text": [
      "Hello, my name is Nikhil\n"
     ]
    }
   ],
   "source": [
    "# __init__() method \n",
    "# A Sample class with init method\n",
    "class Person:\n",
    "    # init method or constructor\n",
    "    def __init__(self, name):\n",
    "        self.name = name\n",
    "\n",
    "    # Sample Method\n",
    "    def say_hi(self):\n",
    "        print('Hello, my name is', self.name)\n",
    "\n",
    "p = Person('Nikhil')\n",
    "p.say_hi()"
   ]
  },
  {
   "cell_type": "code",
   "execution_count": 7,
   "id": "6bb6b8d7",
   "metadata": {},
   "outputs": [
    {
     "name": "stdout",
     "output_type": "stream",
     "text": [
      "Rodger is a mammal\n",
      "Tommy is also a mammal\n",
      "My name is Rodger\n",
      "My name is Tommy\n"
     ]
    }
   ],
   "source": [
    "class Dog:\n",
    "    # class attribute\n",
    "    attr1 = \"mammal\"\n",
    "\n",
    "    # Instance attribute\n",
    "    def __init__(self, name):\n",
    "        self.name = name\n",
    "\n",
    "        \n",
    "# Driver code\n",
    "# Object instantiation\n",
    "Rodger = Dog(\"Rodger\")\n",
    "Tommy = Dog(\"Tommy\")\n",
    "\n",
    "# Accessing class attributes\n",
    "print(\"Rodger is a {}\".format(Rodger.__class__.attr1))\n",
    "print(\"Tommy is also a {}\".format(Tommy.__class__.attr1))\n",
    "\n",
    "# Accessing instance attributes\n",
    "print(\"My name is {}\".format(Rodger.name))\n",
    "print(\"My name is {}\".format(Tommy.name))"
   ]
  },
  {
   "cell_type": "code",
   "execution_count": 8,
   "id": "c045e1a5",
   "metadata": {},
   "outputs": [
    {
     "name": "stdout",
     "output_type": "stream",
     "text": [
      "My name is Rodger\n",
      "My name is Tommy\n"
     ]
    }
   ],
   "source": [
    "class Dog:\n",
    "    # class attribute\n",
    "    attr1 = \"mammal\"\n",
    "\n",
    "    # Instance attribute\n",
    "    def __init__(self, name):\n",
    "        self.name = name\n",
    "        \n",
    "    def speak(self):\n",
    "        print(\"My name is {}\".format(self.name))\n",
    "\n",
    "        \n",
    "# Driver code\n",
    "# Object instantiation\n",
    "Rodger = Dog(\"Rodger\")\n",
    "Tommy = Dog(\"Tommy\")\n",
    "\n",
    "# Accessing class methods\n",
    "Rodger.speak()\n",
    "Tommy.speak()"
   ]
  },
  {
   "cell_type": "markdown",
   "id": "9f2b3735",
   "metadata": {},
   "source": [
    "## Inheritance:"
   ]
  },
  {
   "cell_type": "code",
   "execution_count": 9,
   "id": "78749714",
   "metadata": {},
   "outputs": [
    {
     "name": "stdout",
     "output_type": "stream",
     "text": [
      "Rahul\n",
      "886012\n",
      "My name is Rahul\n",
      "IdNumber: 886012\n",
      "Post: Intern\n"
     ]
    }
   ],
   "source": [
    "# Python code to demonstrate how parent constructors\n",
    "# are called.\n",
    "\n",
    "# parent class\n",
    "class Person(object):\n",
    "\n",
    "    # __init__ is known as the constructor\n",
    "    def __init__(self, name, idnumber):\n",
    "        self.name = name\n",
    "        self.idnumber = idnumber\n",
    "\n",
    "    def display(self):\n",
    "        print(self.name)\n",
    "        print(self.idnumber)\n",
    "\n",
    "    def details(self):\n",
    "        print(\"My name is {}\".format(self.name))\n",
    "        print(\"IdNumber: {}\".format(self.idnumber))\n",
    "    \n",
    "# child class\n",
    "class Employee(Person):\n",
    "    def __init__(self, name, idnumber, salary, post):\n",
    "        self.salary = salary\n",
    "        self.post = post\n",
    "\n",
    "        # invoking the __init__ of the parent class\n",
    "        Person.__init__(self, name, idnumber)\n",
    "\n",
    "    def details(self):\n",
    "        print(\"My name is {}\".format(self.name))\n",
    "        print(\"IdNumber: {}\".format(self.idnumber))\n",
    "        print(\"Post: {}\".format(self.post))\n",
    "\n",
    "\n",
    "# creation of an object variable or an instance\n",
    "a = Employee('Rahul', 886012, 200000, \"Intern\")\n",
    "\n",
    "# calling a function of the class Person using\n",
    "# its instance\n",
    "a.display()\n",
    "a.details()"
   ]
  },
  {
   "cell_type": "markdown",
   "id": "fa028412",
   "metadata": {},
   "source": [
    "## Polymorphism"
   ]
  },
  {
   "cell_type": "code",
   "execution_count": 10,
   "id": "e7a982d7",
   "metadata": {},
   "outputs": [
    {
     "name": "stdout",
     "output_type": "stream",
     "text": [
      "There are many types of birds.\n",
      "Most of the birds can fly but some cannot.\n",
      "There are many types of birds.\n",
      "Sparrows can fly.\n",
      "There are many types of birds.\n",
      "Ostriches cannot fly.\n"
     ]
    }
   ],
   "source": [
    "class Bird:\n",
    "    def intro(self):\n",
    "        print(\"There are many types of birds.\")\n",
    "\n",
    "    def flight(self):\n",
    "        print(\"Most of the birds can fly but some cannot.\")\n",
    "\n",
    "        \n",
    "class sparrow(Bird):\n",
    "    def flight(self):\n",
    "        print(\"Sparrows can fly.\")\n",
    "\n",
    "        \n",
    "class ostrich(Bird):\n",
    "    def flight(self):\n",
    "        print(\"Ostriches cannot fly.\")\n",
    "\n",
    "\n",
    "obj_bird = Bird()\n",
    "obj_spr = sparrow()\n",
    "obj_ost = ostrich()\n",
    "\n",
    "obj_bird.intro()\n",
    "obj_bird.flight()\n",
    "\n",
    "obj_spr.intro()\n",
    "obj_spr.flight()\n",
    "\n",
    "obj_ost.intro()\n",
    "obj_ost.flight()"
   ]
  },
  {
   "cell_type": "markdown",
   "id": "407e14b6",
   "metadata": {},
   "source": [
    "## Encapsulation"
   ]
  },
  {
   "cell_type": "markdown",
   "id": "180b24ce",
   "metadata": {},
   "source": [
    "Encapsulation is one of the fundamental concepts in object-oriented programming (OOP). It describes the idea of wrapping data and the methods that work on data within one unit. This puts restrictions on accessing variables and methods directly and can prevent the accidental modification of data. To prevent accidental change, an object’s variable can only be changed by an object’s method. Those types of variables are known as private variables.\n",
    "A class is an example of encapsulation as it encapsulates all the data that is member functions, variables, etc."
   ]
  },
  {
   "cell_type": "code",
   "execution_count": 12,
   "id": "565d35c9",
   "metadata": {},
   "outputs": [
    {
     "name": "stdout",
     "output_type": "stream",
     "text": [
      "Python\n"
     ]
    }
   ],
   "source": [
    "# Python program to\n",
    "# demonstrate private members\n",
    "\n",
    "# Creating a Base class\n",
    "class Base:\n",
    "    def __init__(self):\n",
    "        self.a = \"Python\"\n",
    "        self.__c = \"Python\"\n",
    "\n",
    "        \n",
    "# Creating a derived class\n",
    "class Derived(Base):\n",
    "    def __init__(self):\n",
    "        # Calling constructor of\n",
    "        # Base class\n",
    "        Base.__init__(self)\n",
    "        print(\"Calling private member of base class: \")\n",
    "        print(self.__c)\n",
    "\n",
    "\n",
    "# Driver code\n",
    "obj1 = Base()\n",
    "print(obj1.a)\n",
    "\n",
    "# Uncommenting print(obj1.c) will\n",
    "# raise an AttributeError\n",
    "# Uncommenting obj2 = Derived() will\n",
    "# also raise an AtrributeError as\n",
    "# private member of base class\n",
    "# is called inside derived class"
   ]
  },
  {
   "cell_type": "code",
   "execution_count": null,
   "id": "b5190084",
   "metadata": {},
   "outputs": [],
   "source": []
  }
 ],
 "metadata": {
  "kernelspec": {
   "display_name": "Python 3",
   "language": "python",
   "name": "python3"
  },
  "language_info": {
   "codemirror_mode": {
    "name": "ipython",
    "version": 3
   },
   "file_extension": ".py",
   "mimetype": "text/x-python",
   "name": "python",
   "nbconvert_exporter": "python",
   "pygments_lexer": "ipython3",
   "version": "3.8.10"
  }
 },
 "nbformat": 4,
 "nbformat_minor": 5
}
